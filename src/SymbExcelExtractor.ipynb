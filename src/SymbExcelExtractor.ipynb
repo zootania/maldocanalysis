{
 "cells": [
  {
   "cell_type": "code",
   "execution_count": null,
   "metadata": {},
   "outputs": [],
   "source": [
    "from symbexcel import SimulationManager\n",
    "from symbexcel.excel_wrapper import parse_excel_doc\n",
    "from symbexcel import SimulationManager, State\n",
    "from symbexcel.cfg import generate_graph\n",
    "import os\n",
    "\n",
    "from typing import Callable\n",
    "find: Callable[[State], bool] = lambda s: str(s.simgr.insns_count) in []"
   ]
  },
  {
   "cell_type": "code",
   "execution_count": null,
   "metadata": {},
   "outputs": [],
   "source": [
    "dataset_directory = os.path.join(os.path.dirname(os.getcwd()), \"malware_samples\")\n",
    "files_list = [os.path.join(dataset_directory, os.path.join(file_name, file_name)) for file_name in os.listdir(dataset_directory)]"
   ]
  },
  {
   "cell_type": "code",
   "execution_count": null,
   "metadata": {},
   "outputs": [],
   "source": [
    "ioc_map = []\n",
    "for f in files_list:\n",
    "    print(f\"File Path: {f}\")\n",
    "    try:\n",
    "        excel_doc = parse_excel_doc(f)\n",
    "        simgr = SimulationManager(excel_doc)\n",
    "        while len(simgr.active) > 0:\n",
    "            simgr.run(find=find, checkpoint=0, timeout=30)\n",
    "        \n",
    "            print('-' * 30 + '\\n' + str(simgr))\n",
    "            if len(simgr.found) > 0:\n",
    "                IPython.embed()\n",
    "        \n",
    "            simgr.move(from_stash='found', to_stash='active')\n",
    "        iocs = []\n",
    "        for idx, state in enumerate(simgr.states):\n",
    "            print(idx, state)\n",
    "            if state.iocs:\n",
    "                for ioc in state.iocs:\n",
    "                    iocs.append(ioc)\n",
    "        ioc_map.append({\"hash\": f,\"iocs\": [iocs]})\n",
    "\n",
    "    except Exception as e:\n",
    "        pass\n"
   ]
  }
 ],
 "metadata": {
  "language_info": {
   "name": "python"
  }
 },
 "nbformat": 4,
 "nbformat_minor": 2
}
