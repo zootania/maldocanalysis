{
 "cells": [
  {
   "cell_type": "code",
   "execution_count": 1,
   "id": "a59b79e1-e9c1-46bc-a331-a8ade021529a",
   "metadata": {},
   "outputs": [],
   "source": [
    "import asyncio\n",
    "import logging\n",
    "from concurrent.futures import ThreadPoolExecutor\n",
    "import os\n",
    "from pathlib import Path\n",
    "from typing import Callable, List, Dict, Any\n",
    "import asyncio\n",
    "import logging\n",
    "from concurrent.futures import ThreadPoolExecutor\n",
    "import os\n",
    "from pathlib import Path\n",
    "from typing import List, Dict, Any, Callable\n",
    "from malwaredoc.data.base import Base, Dictable\n",
    "from pydantic import validator\n",
    "import pickle\n",
    "from typing import Optional, Union, Any\n",
    "from malwaredoc.extract.pipeline import OfficePipeline, FilePipeline, FeatureExtractionPipeline, WordFilePipeline\n",
    "from malwaredoc.extract.metadata import get_file_type, ExifInfo\n",
    "\n",
    "from malwaredoc.extract.pipeline import FeatureExtractionPipeline\n",
    "\n",
    "from malwaredoc.extract.util import convert_string_to_attribute_name\n",
    "from pathlib import Path"
   ]
  },
  {
   "cell_type": "code",
   "execution_count": 2,
   "id": "d5d238f8-e4fb-4b01-85eb-8901877a203c",
   "metadata": {},
   "outputs": [],
   "source": [
    "logging.basicConfig(filename='feature_extraction_errors.log', level=logging.INFO,\n",
    "                    format='%(asctime)s - %(levelname)s - %(message)s')\n",
    "\n",
    "executor = ThreadPoolExecutor(max_workers=min(32, os.cpu_count() + 4 if os.cpu_count() else 4))\n",
    "\n",
    "async def run_async_task(func, *args, **kwargs) -> Any:\n",
    "    \"\"\"\n",
    "    Execute any function asynchronously in a ThreadPoolExecutor.\n",
    "    \n",
    "    Args:\n",
    "        func: The function to execute.\n",
    "        *args: Positional arguments for the function.\n",
    "        **kwargs: Keyword arguments for the function.\n",
    "        \n",
    "    Returns:\n",
    "        The result of the function execution.\n",
    "    \"\"\"\n",
    "    loop = asyncio.get_running_loop()\n",
    "    return await loop.run_in_executor(executor, func, *args, **kwargs)\n",
    "\n",
    "async def process_file_async(file_path: Path) -> Dict[str, Any]:\n",
    "    \"\"\"\n",
    "    Asynchronously process a file using a dummy processing function.\n",
    "    \n",
    "    Args:\n",
    "        file_path: Path to the file to be processed.\n",
    "        \n",
    "    Returns:\n",
    "        A dictionary with the result of the processing.\n",
    "    \"\"\"\n",
    "    try:\n",
    "        result = await run_async_task(FeatureExtractionPipeline().process_file, file_path)\n",
    "        return {\"file_path\": str(file_path), \"result\": result}\n",
    "    except Exception as e:\n",
    "        print(e)\n",
    "        return {\"file_path\": str(file_path), \"result\": None}\n",
    "\n",
    "\n",
    "async def process_files_async(file_paths: List[Path]) -> List[Dict[str, Any]]:\n",
    "    \"\"\"\n",
    "    Asynchronously process a list of files.\n",
    "    \n",
    "    Args:\n",
    "        file_paths: List of file paths to process.\n",
    "        \n",
    "    Returns:\n",
    "        List of dictionaries with processing results.\n",
    "    \"\"\"\n",
    "    tasks = [process_file_async(file_path) for file_path in file_paths]\n",
    "    results = await asyncio.gather(*tasks)\n",
    "    return results\n"
   ]
  },
  {
   "cell_type": "code",
   "execution_count": 3,
   "id": "79b02049-99be-4fe6-81c7-dd4b1c0556ea",
   "metadata": {},
   "outputs": [],
   "source": [
    "dataset_directory = os.path.join(os.path.dirname(os.getcwd()), \"malware_samples\")\n",
    "files_list = [Path(os.path.join(dataset_directory, os.path.join(file_name, file_name))) for file_name in os.listdir(dataset_directory)]"
   ]
  },
  {
   "cell_type": "code",
   "execution_count": 4,
   "id": "252c1dc1-6eb2-4753-a024-cfc1a5e5664f",
   "metadata": {
    "tags": []
   },
   "outputs": [],
   "source": [
    "# import datetime\n",
    "# start_time = datetime.datetime.now()\n",
    "# results = await process_files_async(files_list)\n",
    "# end_time = datetime.datetime.now()\n",
    "# duration = end_time - start_time\n",
    "# print(f\"Execution time: {duration}\")\n"
   ]
  },
  {
   "cell_type": "code",
   "execution_count": null,
   "id": "a7db7a96-c67c-4920-b24b-430001c91e18",
   "metadata": {},
   "outputs": [],
   "source": []
  }
 ],
 "metadata": {
  "kernelspec": {
   "display_name": "Python 3 (ipykernel)",
   "language": "python",
   "name": "python3"
  },
  "language_info": {
   "codemirror_mode": {
    "name": "ipython",
    "version": 3
   },
   "file_extension": ".py",
   "mimetype": "text/x-python",
   "name": "python",
   "nbconvert_exporter": "python",
   "pygments_lexer": "ipython3",
   "version": "3.10.10"
  }
 },
 "nbformat": 4,
 "nbformat_minor": 5
}
